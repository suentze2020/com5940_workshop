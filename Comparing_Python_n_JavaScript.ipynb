{
 "cells": [
  {
   "cell_type": "markdown",
   "metadata": {},
   "source": [
    "<h1><center>Learning JavaScript By Comparing It with Python</center></h1>"
   ]
  },
  {
   "cell_type": "markdown",
   "metadata": {},
   "source": [
    "<div style=\"font-size:20px; line-height: normal;\">\n",
    "<p>By now, you should be familiar with the basic concepts of Python programming. Similar to Python, JavaScript possesses some similar concepts with different syntax and implementation. Let's compare them side-by-side to see how things done in Python can be done in JavaScript. \n",
    "<br><br>\n",
    "</p>\n",
    "</div>"
   ]
  },
  {
   "cell_type": "markdown",
   "metadata": {},
   "source": [
    "<div style=\"font-size:20px; line-height: normal;\">\n",
    "<center><h3>Basic Math Operations</h3></center>\n",
    "<p>Let's see how we can perform basic math functions in JavaScript to manipulate integer and floating point numbers \n",
    "<br><br>\n",
    "</p>\n",
    "</div>"
   ]
  },
  {
   "cell_type": "code",
   "execution_count": 342,
   "metadata": {},
   "outputs": [
    {
     "name": "stdout",
     "output_type": "stream",
     "text": [
      "c = 8 ; d = 80 ; e = 4.0 ; f = 64 ;g = 5 ; h = 1\n"
     ]
    }
   ],
   "source": [
    "## Python\n",
    "a = 3 # This represents a comment in Python\n",
    "b = 5\n",
    "c = a + b\n",
    "d = c * 10\n",
    "e = c / 2\n",
    "f = c**2\n",
    "g = (c+3)// 2 \n",
    "h = (c+1)% 2\n",
    "print(\"c =\",c,\"; d =\",d,\"; e =\",e,\"; f =\",f,\";g =\",g,\"; h =\",h)"
   ]
  },
  {
   "cell_type": "code",
   "execution_count": 345,
   "metadata": {},
   "outputs": [
    {
     "name": "stdout",
     "output_type": "stream",
     "text": [
      "8\n",
      "5\n",
      "1\n"
     ]
    }
   ],
   "source": [
    "# This is a remark\n",
    "print(c)\n",
    "g = (c+3)// 2 \n",
    "print(g)\n",
    "h = (c+3)% 2\n",
    "print(h)"
   ]
  },
  {
   "cell_type": "code",
   "execution_count": 349,
   "metadata": {},
   "outputs": [
    {
     "data": {
      "application/javascript": [
       "     // The %%js is a special function to let you run JS in JupyterNB.\n",
       "     /* Placing texts between the (slash and star) is another way to comment. */\n",
       "let a = 3;\n",
       "let b = 5;\n",
       "let c = a + b;\n",
       "// let d = c * 10\n",
       "// let e = c/2\n",
       "// let f = c**2\n",
       "// let g = Math.floor((c+3)/ 2);\n",
       "let h = (c+3)%2\n",
       "// let result = \"c = \"+c+\" ; d = \"+d+\" ; e = \"+e+\" ; f = \"+f+\" ; g = \"+g+\" ; h = \"+h\n",
       "element.text(h)\n"
      ],
      "text/plain": [
       "<IPython.core.display.Javascript object>"
      ]
     },
     "metadata": {},
     "output_type": "display_data"
    }
   ],
   "source": [
    "%%js // The double forward slashes represents a comment in JavaScript. \n",
    "     // The %%js is a special function to let you run JS in JupyterNB.\n",
    "     /* Placing texts between the (slash and star) is another way to comment. */\n",
    "let a = 3;\n",
    "let b = 5;\n",
    "let c = a + b;\n",
    "// let d = c * 10\n",
    "// let e = c/2\n",
    "// let f = c**2\n",
    "// let g = Math.floor((c+3)/ 2);\n",
    "let h = (c+3)%2\n",
    "// let result = \"c = \"+c+\" ; d = \"+d+\" ; e = \"+e+\" ; f = \"+f+\" ; g = \"+g+\" ; h = \"+h\n",
    "element.text(h)"
   ]
  },
  {
   "cell_type": "markdown",
   "metadata": {},
   "source": [
    "<div style=\"font-size:20px; line-height: normal;\">\n",
    "    <center><h3>Try it out in Visual Studio Code</h3></center>\n",
    "</div>"
   ]
  },
  {
   "cell_type": "markdown",
   "metadata": {},
   "source": [
    "<div style=\"font-size:20px; line-height: normal;\">\n",
    "<center><h3>Replace element.text() with document.writeln()</h3></center>\n",
    "</div>"
   ]
  },
  {
   "cell_type": "code",
   "execution_count": 76,
   "metadata": {},
   "outputs": [
    {
     "name": "stdout",
     "output_type": "stream",
     "text": [
      "9.2\n"
     ]
    }
   ],
   "source": [
    "## Python\n",
    "a = 3.5\n",
    "b = 5.7;\n",
    "c = a + b;\n",
    "print(c) "
   ]
  },
  {
   "cell_type": "code",
   "execution_count": 21,
   "metadata": {},
   "outputs": [
    {
     "data": {
      "application/javascript": [
       "let x = 3.5\n",
       "let y = 5.7;\n",
       "let z = x + y;\n",
       "element.text(z) \n"
      ],
      "text/plain": [
       "<IPython.core.display.Javascript object>"
      ]
     },
     "metadata": {},
     "output_type": "display_data"
    }
   ],
   "source": [
    "%%js \n",
    "let a = 3.5\n",
    "let b = 5.7;\n",
    "let c = a + b;\n",
    "element.text(c) "
   ]
  },
  {
   "cell_type": "markdown",
   "metadata": {},
   "source": [
    "<div style=\"font-size:20px; line-height: normal;\">\n",
    "<center><h3>Type Conversion</h3></center>\n",
    "</div>"
   ]
  },
  {
   "cell_type": "code",
   "execution_count": 350,
   "metadata": {},
   "outputs": [
    {
     "name": "stdout",
     "output_type": "stream",
     "text": [
      "3\n"
     ]
    }
   ],
   "source": [
    "## Python\n",
    "a = 3.5\n",
    "b = int(a)\n",
    "print(b)"
   ]
  },
  {
   "cell_type": "code",
   "execution_count": 88,
   "metadata": {},
   "outputs": [
    {
     "data": {
      "application/javascript": [
       "let a = 3.5\n",
       "let b = parseInt(a)\n",
       "element.text(b)\n"
      ],
      "text/plain": [
       "<IPython.core.display.Javascript object>"
      ]
     },
     "metadata": {},
     "output_type": "display_data"
    }
   ],
   "source": [
    "%%js\n",
    "let a = 3.5\n",
    "let b = parseInt(a)\n",
    "element.text(b)"
   ]
  },
  {
   "cell_type": "code",
   "execution_count": null,
   "metadata": {},
   "outputs": [],
   "source": [
    "## Python\n",
    "a = '3.5'\n",
    "b = int(a)\n",
    "print(b)"
   ]
  },
  {
   "cell_type": "code",
   "execution_count": 90,
   "metadata": {},
   "outputs": [
    {
     "data": {
      "application/javascript": [
       "let a = '3.5' // This is a string\n",
       "let b = parseInt(a)\n",
       "element.text(b)\n"
      ],
      "text/plain": [
       "<IPython.core.display.Javascript object>"
      ]
     },
     "metadata": {},
     "output_type": "display_data"
    }
   ],
   "source": [
    "%%js\n",
    "let a = '3.5' // This is a string\n",
    "let b = parseInt(a)\n",
    "element.text(b)"
   ]
  },
  {
   "cell_type": "code",
   "execution_count": 352,
   "metadata": {},
   "outputs": [
    {
     "name": "stdout",
     "output_type": "stream",
     "text": [
      "<class 'str'>\n",
      "3.5\n",
      "<class 'float'>\n"
     ]
    }
   ],
   "source": [
    "## Python\n",
    "a = '3.5'\n",
    "print(type(a))\n",
    "b = float(a)\n",
    "print(b)\n",
    "print(type(b))"
   ]
  },
  {
   "cell_type": "code",
   "execution_count": 92,
   "metadata": {},
   "outputs": [
    {
     "data": {
      "application/javascript": [
       "let a = '3.5' // This is a string\n",
       "let b = parseFloat(a)\n",
       "element.text(b)\n"
      ],
      "text/plain": [
       "<IPython.core.display.Javascript object>"
      ]
     },
     "metadata": {},
     "output_type": "display_data"
    }
   ],
   "source": [
    "%%js\n",
    "let a = '3.5' // This is a string\n",
    "let b = parseFloat(a)\n",
    "element.text(b)"
   ]
  },
  {
   "cell_type": "markdown",
   "metadata": {},
   "source": [
    "<div style=\"font-size:20px; line-height: normal;\">\n",
    "<center><h3>Basic String Type</h3></center>\n",
    "</div>"
   ]
  },
  {
   "cell_type": "code",
   "execution_count": 353,
   "metadata": {},
   "outputs": [
    {
     "name": "stdout",
     "output_type": "stream",
     "text": [
      "s\n"
     ]
    }
   ],
   "source": [
    "## Python\n",
    "myname = \"This is my name\"\n",
    "print(myname[3])"
   ]
  },
  {
   "cell_type": "code",
   "execution_count": 324,
   "metadata": {},
   "outputs": [
    {
     "data": {
      "application/javascript": [
       "let myname = \"This is my name\";\n",
       "element.text(myname[3])\n"
      ],
      "text/plain": [
       "<IPython.core.display.Javascript object>"
      ]
     },
     "metadata": {},
     "output_type": "display_data"
    }
   ],
   "source": [
    "%%js\n",
    "let myname = \"This is my name\";\n",
    "element.text(myname[3])"
   ]
  },
  {
   "cell_type": "code",
   "execution_count": 354,
   "metadata": {},
   "outputs": [
    {
     "name": "stdout",
     "output_type": "stream",
     "text": [
      "Enter x: 3\n",
      "8\n"
     ]
    }
   ],
   "source": [
    "## Python\n",
    "x = int(input(\"Enter x: \"))\n",
    "y = 5\n",
    "z = x + y\n",
    "print(z)"
   ]
  },
  {
   "cell_type": "code",
   "execution_count": 355,
   "metadata": {},
   "outputs": [
    {
     "data": {
      "application/javascript": [
       "let x = parseInt(prompt(\"Enter x\")) /* int(input(\"Enter x: \")) */\n",
       "let y = 5\n",
       "let z = x + 5\n",
       "element.text(z)\n"
      ],
      "text/plain": [
       "<IPython.core.display.Javascript object>"
      ]
     },
     "metadata": {},
     "output_type": "display_data"
    }
   ],
   "source": [
    "%%js\n",
    "let x = parseInt(prompt(\"Enter x\")) /* int(input(\"Enter x: \")) */\n",
    "let y = 5\n",
    "let z = x + 5\n",
    "element.text(z)"
   ]
  },
  {
   "cell_type": "markdown",
   "metadata": {},
   "source": [
    "<div style=\"font-size:20px; line-height: normal;\">\n",
    "    <center><h3>Try it out in Visual Studio Code. <br>Replace element.text() with document.writeln()</h3></center>\n",
    "</div>"
   ]
  },
  {
   "cell_type": "markdown",
   "metadata": {},
   "source": [
    "<div style=\"font-size:20px; line-height: normal;\">\n",
    "    <center><h3>Refer to Jupyter Notebook on Basic/Input Operations</h3></center>\n",
    "</div>"
   ]
  },
  {
   "cell_type": "markdown",
   "metadata": {},
   "source": [
    "<div style=\"font-size:20px; line-height: normal;\">\n",
    "<center><h3>Basic Boolean Type</h3></center>\n",
    "</div>"
   ]
  },
  {
   "cell_type": "code",
   "execution_count": 356,
   "metadata": {},
   "outputs": [
    {
     "name": "stdout",
     "output_type": "stream",
     "text": [
      "False\n"
     ]
    }
   ],
   "source": [
    "## Python\n",
    "is_student = False\n",
    "print(is_student)"
   ]
  },
  {
   "cell_type": "code",
   "execution_count": 358,
   "metadata": {},
   "outputs": [
    {
     "data": {
      "application/javascript": [
       "let is_student = false;\n",
       "element.text(is_student)\n"
      ],
      "text/plain": [
       "<IPython.core.display.Javascript object>"
      ]
     },
     "metadata": {},
     "output_type": "display_data"
    }
   ],
   "source": [
    "%%js\n",
    "let is_student = false;\n",
    "element.text(is_student)"
   ]
  },
  {
   "cell_type": "code",
   "execution_count": 183,
   "metadata": {},
   "outputs": [
    {
     "name": "stdout",
     "output_type": "stream",
     "text": [
      "False\n"
     ]
    }
   ],
   "source": [
    "## Python\n",
    "is_student = 0\n",
    "print(bool(is_student))"
   ]
  },
  {
   "cell_type": "code",
   "execution_count": 182,
   "metadata": {},
   "outputs": [
    {
     "data": {
      "application/javascript": [
       "let is_student = 0;\n",
       "element.text(Boolean(is_student))\n"
      ],
      "text/plain": [
       "<IPython.core.display.Javascript object>"
      ]
     },
     "metadata": {},
     "output_type": "display_data"
    }
   ],
   "source": [
    "%%js\n",
    "let is_student = 0;\n",
    "element.text(Boolean(is_student))"
   ]
  },
  {
   "cell_type": "code",
   "execution_count": 366,
   "metadata": {},
   "outputs": [
    {
     "name": "stdout",
     "output_type": "stream",
     "text": [
      "CUHK\n"
     ]
    }
   ],
   "source": [
    "## Python\n",
    "z = \"I am from CUHK.\"\n",
    "#    0123456789012345\n",
    "# The above characters are used to illustrate string positioning\n",
    "# print(len(z))\n",
    "# print(z[0:15])\n",
    "# print(z[-3:])\n",
    "print(z[10:14])"
   ]
  },
  {
   "cell_type": "code",
   "execution_count": 365,
   "metadata": {},
   "outputs": [
    {
     "data": {
      "application/javascript": [
       "let z = \"I am from CUHK.\"\n",
       "//       0123456789012345\n",
       "// The above characters are used to illustrate string positioning\n",
       "// element.text(z.length)           /* print(len(z)) */ \n",
       "// element.text(z.slice(0,15))      /* print(z[0:15])*/\n",
       "// No equivalent                    /* print(z[-3:]) */\n",
       "element.text(z.slice(10,14));    /* print(z[10:14]) */\n"
      ],
      "text/plain": [
       "<IPython.core.display.Javascript object>"
      ]
     },
     "metadata": {},
     "output_type": "display_data"
    }
   ],
   "source": [
    "%%js\n",
    "let z = \"I am from CUHK.\"\n",
    "//       0123456789012345\n",
    "// The above characters are used to illustrate string positioning\n",
    "// element.text(z.length)           /* print(len(z)) */ \n",
    "// element.text(z.slice(0,15))      /* print(z[0:15])*/\n",
    "// No equivalent                    /* print(z[-3:]) */\n",
    "element.text(z.slice(10,14));    /* print(z[10:14]) */"
   ]
  },
  {
   "cell_type": "code",
   "execution_count": 367,
   "metadata": {},
   "outputs": [
    {
     "name": "stdout",
     "output_type": "stream",
     "text": [
      "CUHK\n"
     ]
    }
   ],
   "source": [
    "## Python\n",
    "a = 'cuhk'\n",
    "b = a.upper()\n",
    "print(b)"
   ]
  },
  {
   "cell_type": "code",
   "execution_count": 148,
   "metadata": {},
   "outputs": [
    {
     "data": {
      "application/javascript": [
       "let a = 'cuhk'\n",
       "let b = a.toUpperCase();\n",
       "element.text(b)\n"
      ],
      "text/plain": [
       "<IPython.core.display.Javascript object>"
      ]
     },
     "metadata": {},
     "output_type": "display_data"
    }
   ],
   "source": [
    "%%js\n",
    "let a = 'cuhk'\n",
    "let b = a.toUpperCase();\n",
    "element.text(b)"
   ]
  },
  {
   "cell_type": "code",
   "execution_count": 368,
   "metadata": {},
   "outputs": [
    {
     "name": "stdout",
     "output_type": "stream",
     "text": [
      "Prince William\n"
     ]
    }
   ],
   "source": [
    "## Python\n",
    "name = \"Prince Charles\"\n",
    "name = name.replace(\"Charles\",\"William\")\n",
    "print(name)"
   ]
  },
  {
   "cell_type": "code",
   "execution_count": 369,
   "metadata": {},
   "outputs": [
    {
     "data": {
      "application/javascript": [
       "let name = \"Prince Charles\"\n",
       "name = name.replace(\"Charles\",\"William\")\n",
       "element.text(name)\n"
      ],
      "text/plain": [
       "<IPython.core.display.Javascript object>"
      ]
     },
     "metadata": {},
     "output_type": "display_data"
    }
   ],
   "source": [
    "%%js\n",
    "let name = \"Prince Charles\"\n",
    "name = name.replace(\"Charles\",\"William\")\n",
    "element.text(name)"
   ]
  },
  {
   "cell_type": "code",
   "execution_count": 370,
   "metadata": {},
   "outputs": [
    {
     "name": "stdout",
     "output_type": "stream",
     "text": [
      "7\n"
     ]
    }
   ],
   "source": [
    "## Python\n",
    "names = \"Prince Charles and Prince Harry\"\n",
    "#        0123456789012345678901234567890\n",
    "start_position = names.find(\"Charles\")\n",
    "print(start_position)"
   ]
  },
  {
   "cell_type": "code",
   "execution_count": 160,
   "metadata": {},
   "outputs": [
    {
     "data": {
      "application/javascript": [
       "let names = \"Prince Charles and Prince Harry\"\n",
       "//          0123456789012345678901234567890\n",
       "let start_position = names.search(\"Charles\")\n",
       "element.text(start_position)\n"
      ],
      "text/plain": [
       "<IPython.core.display.Javascript object>"
      ]
     },
     "metadata": {},
     "output_type": "display_data"
    }
   ],
   "source": [
    "%%js\n",
    "let names = \"Prince Charles and Prince Harry\"\n",
    "//           0123456789012345678901234567890\n",
    "let start_position = names.search(\"Charles\")\n",
    "element.text(start_position)"
   ]
  },
  {
   "cell_type": "markdown",
   "metadata": {},
   "source": [
    "<center><h1>Conditionals:<div style=\"color:red;\">'If then else' Statements </div></h1></center>"
   ]
  },
  {
   "cell_type": "code",
   "execution_count": 192,
   "metadata": {},
   "outputs": [
    {
     "name": "stdout",
     "output_type": "stream",
     "text": [
      "I am a female.\n"
     ]
    }
   ],
   "source": [
    "## Python\n",
    "male = False\n",
    "if male == True:\n",
    "    print('I am a male.')\n",
    "else:\n",
    "    print('I am a female.')"
   ]
  },
  {
   "cell_type": "code",
   "execution_count": 193,
   "metadata": {},
   "outputs": [
    {
     "data": {
      "application/javascript": [
       "let male = false;\n",
       "if (male == true) {\n",
       "    element.text('I am a male.')\n",
       "}\n",
       "else {\n",
       "    element.text('I am a female.')\n",
       "}\n"
      ],
      "text/plain": [
       "<IPython.core.display.Javascript object>"
      ]
     },
     "metadata": {},
     "output_type": "display_data"
    }
   ],
   "source": [
    "%%js\n",
    "let male = false;\n",
    "if (male == true) {\n",
    "    element.text('I am a male.')\n",
    "}\n",
    "else {\n",
    "    element.text('I am a female.')\n",
    "}"
   ]
  },
  {
   "cell_type": "code",
   "execution_count": 372,
   "metadata": {},
   "outputs": [
    {
     "name": "stdout",
     "output_type": "stream",
     "text": [
      "I am a male.\n"
     ]
    }
   ],
   "source": [
    "## Python\n",
    "male = True\n",
    "if male:\n",
    "    print('I am a male.')\n",
    "else:\n",
    "    print('I am a female.')"
   ]
  },
  {
   "cell_type": "code",
   "execution_count": 373,
   "metadata": {},
   "outputs": [
    {
     "data": {
      "application/javascript": [
       "let male = true;\n",
       "if (male) {\n",
       "    element.text('I am a male.')\n",
       "}\n",
       "else {\n",
       "    element.text('I am a female.')\n",
       "}\n"
      ],
      "text/plain": [
       "<IPython.core.display.Javascript object>"
      ]
     },
     "metadata": {},
     "output_type": "display_data"
    }
   ],
   "source": [
    "%%js\n",
    "let male = true;\n",
    "if (male) {\n",
    "    element.text('I am a male.')\n",
    "}\n",
    "else {\n",
    "    element.text('I am a female.')\n",
    "}"
   ]
  },
  {
   "cell_type": "code",
   "execution_count": 375,
   "metadata": {},
   "outputs": [
    {
     "name": "stdout",
     "output_type": "stream",
     "text": [
      "Enter number:120\n",
      "Number is greater than 100.\n"
     ]
    }
   ],
   "source": [
    "## Python\n",
    "num = input(\"Enter number:\")\n",
    "if float(num) > 100:\n",
    "    print('Number is greater than 100.')\n",
    "else:\n",
    "    print('Number is smaller or equal to 100.')"
   ]
  },
  {
   "cell_type": "code",
   "execution_count": 379,
   "metadata": {},
   "outputs": [
    {
     "data": {
      "application/javascript": [
       "let num = prompt(\"Enter number:\") \n",
       "if (parseFloat(num) > 100) {\n",
       "    element.text('Number is greater than 100.')\n",
       "} else {\n",
       "    element.text('Number is smaller or equal to 100.')\n",
       "}\n"
      ],
      "text/plain": [
       "<IPython.core.display.Javascript object>"
      ]
     },
     "metadata": {},
     "output_type": "display_data"
    }
   ],
   "source": [
    "%%js\n",
    "let num = prompt(\"Enter number:\") \n",
    "if (parseFloat(num) > 100) {\n",
    "    element.text('Number is greater than 100.')\n",
    "} else {\n",
    "    element.text('Number is smaller or equal to 100.')\n",
    "}"
   ]
  },
  {
   "cell_type": "markdown",
   "metadata": {},
   "source": [
    "<div style=\"font-size:20px; line-height: normal;\">\n",
    "    <center><h3>Try it out in Visual Studio Code</h3><br>Replace element.text() with document.writeln()</center>\n",
    "</div>"
   ]
  },
  {
   "cell_type": "markdown",
   "metadata": {},
   "source": [
    "<div style=\"font-size:20px; line-height: normal;\">\n",
    "    <center><h3>Python List and JavaScript Array</h3></center>\n",
    "</div>"
   ]
  },
  {
   "cell_type": "code",
   "execution_count": 380,
   "metadata": {},
   "outputs": [
    {
     "name": "stdout",
     "output_type": "stream",
     "text": [
      "[1, 2, 2.5, 3, 4, 5]\n"
     ]
    }
   ],
   "source": [
    "##Pyrhon\n",
    "my_list = [1,2,3,4,5,2.5]\n",
    "print(sorted(my_list))"
   ]
  },
  {
   "cell_type": "code",
   "execution_count": 381,
   "metadata": {
    "scrolled": true
   },
   "outputs": [
    {
     "data": {
      "application/javascript": [
       "let my_array = [1,2,3,4,5,2.5] /* In JavaScript, this is called an array, not list. */\n",
       "element.text(my_array.sort())\n"
      ],
      "text/plain": [
       "<IPython.core.display.Javascript object>"
      ]
     },
     "metadata": {},
     "output_type": "display_data"
    }
   ],
   "source": [
    "%%js\n",
    "let my_array = [1,2,3,4,5,2.5] /* In JavaScript, this is called an array, not list. */\n",
    "element.text(my_array.sort())"
   ]
  },
  {
   "cell_type": "code",
   "execution_count": 205,
   "metadata": {},
   "outputs": [
    {
     "name": "stdout",
     "output_type": "stream",
     "text": [
      "[1, 2, 2.5, 3, 4, 5, 6, 7, 8]\n"
     ]
    }
   ],
   "source": [
    "##Pyrhon\n",
    "my_list = [1,2,3,4,5,2.5]\n",
    "my_list = my_list + [6,7,8]\n",
    "my_list = sorted(my_list)\n",
    "print(my_list)"
   ]
  },
  {
   "cell_type": "code",
   "execution_count": 219,
   "metadata": {},
   "outputs": [
    {
     "data": {
      "application/javascript": [
       "let my_list = [1,2,3,4,5,2.5]\n",
       "my_list = my_list.concat([6,7,8]);\n",
       "element.text(my_list.sort())\n"
      ],
      "text/plain": [
       "<IPython.core.display.Javascript object>"
      ]
     },
     "metadata": {},
     "output_type": "display_data"
    }
   ],
   "source": [
    "%%js\n",
    "let my_list = [1,2,3,4,5,2.5]\n",
    "my_list = my_list.concat([6,7,8]);\n",
    "element.text(my_list.sort())"
   ]
  },
  {
   "cell_type": "code",
   "execution_count": 382,
   "metadata": {},
   "outputs": [
    {
     "name": "stdout",
     "output_type": "stream",
     "text": [
      "[1, 2, 3, 4, 5, 2.5, [6, 7, 8], [10, 11, 12]]\n"
     ]
    }
   ],
   "source": [
    "##Python\n",
    "my_list = [1,2,3,4,5,2.5]\n",
    "my_list.append([6,7,8])\n",
    "my_list.append([10,11,12])\n",
    "print(my_list)"
   ]
  },
  {
   "cell_type": "code",
   "execution_count": 383,
   "metadata": {},
   "outputs": [
    {
     "data": {
      "application/javascript": [
       "let my_list = [1,2,3,4,5,2.5]\n",
       "my_list.push([6,7,8])\n",
       "my_list.push([10,11,12])\n",
       "element.text(my_list)\n"
      ],
      "text/plain": [
       "<IPython.core.display.Javascript object>"
      ]
     },
     "metadata": {},
     "output_type": "display_data"
    }
   ],
   "source": [
    "%%js\n",
    "let my_list = [1,2,3,4,5,2.5]\n",
    "my_list.push([6,7,8])\n",
    "my_list.push([10,11,12])\n",
    "element.text(my_list)"
   ]
  },
  {
   "cell_type": "code",
   "execution_count": 385,
   "metadata": {},
   "outputs": [
    {
     "name": "stdout",
     "output_type": "stream",
     "text": [
      "[2, 3, 4, 5, 2.5]\n"
     ]
    }
   ],
   "source": [
    "##Python\n",
    "my_list = [1,2,3,4,5,2.5]\n",
    "my_list.pop(0) # Remove based on index\n",
    "print(my_list)"
   ]
  },
  {
   "cell_type": "code",
   "execution_count": 239,
   "metadata": {},
   "outputs": [
    {
     "data": {
      "application/javascript": [
       "let my_list = [1,2,3,4,5,2.5]\n",
       "my_list.pop()\n",
       "element.text(my_list)\n"
      ],
      "text/plain": [
       "<IPython.core.display.Javascript object>"
      ]
     },
     "metadata": {},
     "output_type": "display_data"
    }
   ],
   "source": [
    "%%js\n",
    "let my_list = [1,2,3,4,5,2.5]\n",
    "my_list.pop()  /* Remove the last item from the list. */\n",
    "element.text(my_list)"
   ]
  },
  {
   "cell_type": "code",
   "execution_count": 240,
   "metadata": {},
   "outputs": [
    {
     "data": {
      "application/javascript": [
       "let my_list = [1,2,3,4,5,2.5]\n",
       "my_list.shift()\n",
       "element.text(my_list)\n"
      ],
      "text/plain": [
       "<IPython.core.display.Javascript object>"
      ]
     },
     "metadata": {},
     "output_type": "display_data"
    }
   ],
   "source": [
    "%%js\n",
    "let my_list = [1,2,3,4,5,2.5]\n",
    "my_list.shift() /* Remove the first item from the list */\n",
    "element.text(my_list)"
   ]
  },
  {
   "cell_type": "code",
   "execution_count": 249,
   "metadata": {},
   "outputs": [
    {
     "name": "stdout",
     "output_type": "stream",
     "text": [
      "['John makes $1950.', 'Mike makes $3000.', 'Mary makes $3250.', 'Jane makes $4500.']\n"
     ]
    }
   ],
   "source": [
    "##Python\n",
    "hrs_list = [30,40,50,60]\n",
    "rate_list = [65,75,65,75]\n",
    "name_list = ['John',\"Mike\",\"Mary\",\"Jane\"]\n",
    "fee_list = []\n",
    "money_made = []\n",
    "for number in range(len(name_list)):\n",
    "        hrs = hrs_list[number]\n",
    "        rate = rate_list[number]\n",
    "        fee = hrs * rate\n",
    "        fee_list.append(fee)\n",
    "        money_made.append(name_list[number] + \" makes $\" + str(fee) + \".\")\n",
    "print(money_made)"
   ]
  },
  {
   "cell_type": "code",
   "execution_count": 388,
   "metadata": {},
   "outputs": [
    {
     "data": {
      "application/javascript": [
       "let hrs_list = [30,40,50,60];\n",
       "let rate_list = [65,75,65,75];\n",
       "let name_list = ['John',\"Mike\",\"Mary\",\"Jane\"];\n",
       "let fee_list = [];\n",
       "let money_made = [];\n",
       "let hrs = 0;\n",
       "let rate = 0;\n",
       "let fee = 0;\n",
       "for (let number = 0; number < 4; number=number+1) {\n",
       "        hrs = hrs_list[number]\n",
       "        rate = rate_list[number]\n",
       "        fee = hrs * rate\n",
       "        fee_list.push(fee)\n",
       "        money_made.push(name_list[number] + \" makes $\" + fee.toString() + \". \")\n",
       "}\n",
       "element.text(money_made)\n"
      ],
      "text/plain": [
       "<IPython.core.display.Javascript object>"
      ]
     },
     "metadata": {},
     "output_type": "display_data"
    }
   ],
   "source": [
    "%%js\n",
    "let hrs_list = [30,40,50,60];\n",
    "let rate_list = [65,75,65,75];\n",
    "let name_list = ['John',\"Mike\",\"Mary\",\"Jane\"];\n",
    "let fee_list = [];\n",
    "let money_made = [];\n",
    "let hrs = 0;\n",
    "let rate = 0;\n",
    "let fee = 0;\n",
    "for (let number = 0; number < 4; number++) {\n",
    "        hrs = hrs_list[number]\n",
    "        rate = rate_list[number]\n",
    "        fee = hrs * rate\n",
    "        fee_list.push(fee)\n",
    "        money_made.push(name_list[number] + \" makes $\" + fee.toString() + \". \")\n",
    "}\n",
    "element.text(money_made)"
   ]
  },
  {
   "cell_type": "code",
   "execution_count": 264,
   "metadata": {},
   "outputs": [
    {
     "name": "stdout",
     "output_type": "stream",
     "text": [
      "['John makes $1950.', 'Mike makes $3000.', 'Mary makes $3250.', 'Jane makes $4500.']\n"
     ]
    }
   ],
   "source": [
    "##Python\n",
    "hrs_list = [30,40,50,60];\n",
    "rate_list = [65,75,65,75];\n",
    "name_list = ['John',\"Mike\",\"Mary\",\"Jane\"]\n",
    "fee_list = []\n",
    "money_made = []\n",
    "number = 0\n",
    "while number < len(name_list):\n",
    "        hrs = hrs_list[number]\n",
    "        rate = rate_list[number]\n",
    "        fee = hrs * rate\n",
    "        fee_list.append(fee)\n",
    "        money_made.append(name_list[number] + \" makes $\" + str(fee) + \".\")\n",
    "        number = number + 1\n",
    "print(money_made)"
   ]
  },
  {
   "cell_type": "code",
   "execution_count": 327,
   "metadata": {},
   "outputs": [
    {
     "data": {
      "application/javascript": [
       "let hrs_list = [30,40,50,60];\n",
       "let rate_list = [65,75,65,75];\n",
       "let name_list = ['John',\"Mike\",\"Mary\",\"Jane\"];\n",
       "let fee_list = [];\n",
       "let money_made = [];\n",
       "let hrs = 0;\n",
       "let rate = 0;\n",
       "let fee = 0;\n",
       "let number = 0;\n",
       "while (number < name_list.length) {\n",
       "        hrs = hrs_list[number]\n",
       "        rate = rate_list[number]\n",
       "        fee = hrs * rate\n",
       "        fee_list.push(fee)\n",
       "        money_made.push(name_list[number] + \" makes $\" + fee.toString() + \". \")\n",
       "        number = number + 1\n",
       "}\n",
       "element.text(money_made)\n"
      ],
      "text/plain": [
       "<IPython.core.display.Javascript object>"
      ]
     },
     "metadata": {},
     "output_type": "display_data"
    }
   ],
   "source": [
    "%%js\n",
    "let hrs_list = [30,40,50,60];\n",
    "let rate_list = [65,75,65,75];\n",
    "let name_list = ['John',\"Mike\",\"Mary\",\"Jane\"];\n",
    "let fee_list = [];\n",
    "let money_made = [];\n",
    "let hrs = 0;\n",
    "let rate = 0;\n",
    "let fee = 0;\n",
    "let number = 0;\n",
    "while (number < name_list.length) {\n",
    "        hrs = hrs_list[number]\n",
    "        rate = rate_list[number]\n",
    "        fee = hrs * rate\n",
    "        fee_list.push(fee)\n",
    "        money_made.push(name_list[number] + \" makes $\" + fee.toString() + \". \")\n",
    "        number = number + 1\n",
    "}\n",
    "element.text(money_made)"
   ]
  },
  {
   "cell_type": "markdown",
   "metadata": {},
   "source": [
    "<center><h1>Using JavaScript Object to store data like a Python Dictionary</h1></center>"
   ]
  },
  {
   "cell_type": "code",
   "execution_count": 389,
   "metadata": {},
   "outputs": [
    {
     "name": "stdout",
     "output_type": "stream",
     "text": [
      "3\n"
     ]
    }
   ],
   "source": [
    "##Python\n",
    "dict1 = {'Peter':80,\"David\":90,\"Mary\":100}\n",
    "print(len(dict1))"
   ]
  },
  {
   "cell_type": "code",
   "execution_count": 390,
   "metadata": {
    "scrolled": true
   },
   "outputs": [
    {
     "data": {
      "application/javascript": [
       "let dict1 = {'Peter':80,\"David\":90,\"Mary\":100}\n",
       "element.text(Object.keys(dict1).length)\n"
      ],
      "text/plain": [
       "<IPython.core.display.Javascript object>"
      ]
     },
     "metadata": {},
     "output_type": "display_data"
    }
   ],
   "source": [
    "%%js\n",
    "let dict1 = {'Peter':80,\"David\":90,\"Mary\":100}\n",
    "element.text(Object.keys(dict1).length)"
   ]
  },
  {
   "cell_type": "code",
   "execution_count": 391,
   "metadata": {},
   "outputs": [
    {
     "name": "stdout",
     "output_type": "stream",
     "text": [
      "dict_keys(['Peter', 'David', 'Mary'])\n"
     ]
    }
   ],
   "source": [
    "##Python\n",
    "dict1 = {'Peter':80,\"David\":90,\"Mary\":100}\n",
    "print(dict1.keys())"
   ]
  },
  {
   "cell_type": "code",
   "execution_count": 42,
   "metadata": {
    "scrolled": true
   },
   "outputs": [
    {
     "data": {
      "application/javascript": [
       "let obj1 = {'Peter':80,\"David\":90,\"Mary\":100}\n",
       "element.text(Object.keys(obj1))\n"
      ],
      "text/plain": [
       "<IPython.core.display.Javascript object>"
      ]
     },
     "metadata": {},
     "output_type": "display_data"
    }
   ],
   "source": [
    "%%js\n",
    "let obj1 = {'Peter':80,\"David\":90,\"Mary\":100}\n",
    "element.text(Object.keys(obj1))"
   ]
  },
  {
   "cell_type": "code",
   "execution_count": 393,
   "metadata": {},
   "outputs": [
    {
     "name": "stdout",
     "output_type": "stream",
     "text": [
      "dict_values([80, 90, 100])\n"
     ]
    }
   ],
   "source": [
    "##Python\n",
    "dict1 = {'Peter':80,\"David\":90,\"Mary\":100}\n",
    "print(dict1.values())"
   ]
  },
  {
   "cell_type": "code",
   "execution_count": 43,
   "metadata": {},
   "outputs": [
    {
     "data": {
      "application/javascript": [
       "let obj1 = {'Peter':80,\"David\":90,\"Mary\":100}\n",
       "element.text(Object.values(obj1))\n"
      ],
      "text/plain": [
       "<IPython.core.display.Javascript object>"
      ]
     },
     "metadata": {},
     "output_type": "display_data"
    }
   ],
   "source": [
    "%%js\n",
    "let obj1 = {'Peter':80,\"David\":90,\"Mary\":100}\n",
    "element.text(Object.values(obj1))"
   ]
  },
  {
   "cell_type": "code",
   "execution_count": 395,
   "metadata": {},
   "outputs": [
    {
     "name": "stdout",
     "output_type": "stream",
     "text": [
      "{'Peter': 80, 'David': 90, 'Mary': 100}\n"
     ]
    }
   ],
   "source": [
    "##Python\n",
    "dict1 = {'Peter':80,\"David\":90,\"Mary\":100}\n",
    "print(dict1)"
   ]
  },
  {
   "cell_type": "code",
   "execution_count": 36,
   "metadata": {},
   "outputs": [
    {
     "data": {
      "application/javascript": [
       "let obj1 = {'Peter':80,\"David\":90,\"Mary\":100}\n",
       "element.text(Object.entries(obj1))\n"
      ],
      "text/plain": [
       "<IPython.core.display.Javascript object>"
      ]
     },
     "metadata": {},
     "output_type": "display_data"
    }
   ],
   "source": [
    "%%js\n",
    "let obj1 = {'Peter':80,\"David\":90,\"Mary\":100}\n",
    "element.text(Object.entries(obj1))"
   ]
  },
  {
   "cell_type": "markdown",
   "metadata": {},
   "source": [
    "<div style=\"font-size:20px; line-height: normal;\">\n",
    "    <center><h3>Basic User Defined Functions (Refer to PDF)</h3></center>\n",
    "<p>Let's see how we can perform basic user defined functions in JavaScript to manipulate string characters.\n",
    "<br><br>\n",
    "</p>"
   ]
  },
  {
   "cell_type": "code",
   "execution_count": 397,
   "metadata": {},
   "outputs": [
    {
     "name": "stdout",
     "output_type": "stream",
     "text": [
      "Enter x: 3\n",
      "Enter y: 5\n",
      "8\n"
     ]
    }
   ],
   "source": [
    "def calculate_z(x,y):\n",
    "    z = x + y\n",
    "    return z\n",
    "\n",
    "x = int(input(\"Enter x: \"))\n",
    "y = int(input(\"Enter y: \"))\n",
    "z = calculate_z(x,y)\n",
    "print(z)"
   ]
  },
  {
   "cell_type": "code",
   "execution_count": 44,
   "metadata": {},
   "outputs": [
    {
     "data": {
      "application/javascript": [
       "  function calculate_z(x,y) {\n",
       "    let z = x + y;\n",
       "    return z\n",
       "  }\n",
       "  let x = parseInt(prompt(\"Enter x\"))\n",
       "  let y = parseInt(prompt(\"Enter y\"))\n",
       "  let z = calculate_z(x,y)\n",
       "  element.text(z)\n"
      ],
      "text/plain": [
       "<IPython.core.display.Javascript object>"
      ]
     },
     "metadata": {},
     "output_type": "display_data"
    }
   ],
   "source": [
    "%%js\n",
    "  function calculate_z(x,y) {\n",
    "    let z = x + y;\n",
    "    return z\n",
    "  }\n",
    "  let x = parseInt(prompt(\"Enter x\"))\n",
    "  let y = parseInt(prompt(\"Enter y\"))\n",
    "  let z = calculate_z(x,y)\n",
    "  element.text(z)"
   ]
  },
  {
   "cell_type": "markdown",
   "metadata": {},
   "source": [
    "<center><h1>Combining Array and Object in JS <br>Is Similar to<br> List and Dictionary in Python</h1></center>"
   ]
  },
  {
   "cell_type": "code",
   "execution_count": 399,
   "metadata": {},
   "outputs": [
    {
     "name": "stdout",
     "output_type": "stream",
     "text": [
      "id : 1111\n",
      "name : David Chan\n",
      "email : david@cuhk.edu.hk\n",
      "id : 1112\n",
      "name : Peter Lee\n",
      "email : peter@cuhk.edu.hk\n",
      "id : 1113\n",
      "name : Mary Fung\n",
      "email : mary@cuhk.edu.hk\n"
     ]
    }
   ],
   "source": [
    "##Pyrhon\n",
    "student1 = {'id':'1111','name':'David Chan','email':'david@cuhk.edu.hk'} \n",
    "student2 = {'id':'1112','name':'Peter Lee','email':'peter@cuhk.edu.hk'}\n",
    "student3 = {'id':'1113','name':'Mary Fung','email':'mary@cuhk.edu.hk'}\n",
    "students = []\n",
    "text = ''\n",
    "students.append(student1)    # Python list append is similar to JavaScript array push\n",
    "students.append(student2)\n",
    "students.append(student3)\n",
    "key = 0\n",
    "for i in students:\n",
    "    for key in i:   \n",
    "        print(key, ':', i[key])"
   ]
  },
  {
   "cell_type": "markdown",
   "metadata": {},
   "source": [
    "<div style=\"font-size:20px; line-height: normal;\">\n",
    "    <center><h3>Display an array of objects inside a Javascript Loop</h3></center>\n",
    "</div>"
   ]
  },
  {
   "cell_type": "code",
   "execution_count": 41,
   "metadata": {},
   "outputs": [
    {
     "data": {
      "application/javascript": [
       "let student1 = {'id':'1111','name':'David Chan','email':'david@cuhk.edu.hk'} \n",
       "let student2 = {'id':'1112','name':'Peter Lee','email':'peter@cuhk.edu.hk'}\n",
       "let student3 = {'id':'1113','name':'Mary Fung','email':'mary@cuhk.edu.hk'}\n",
       "let students = []\n",
       "students.push(student1) \n",
       "students.push(student2)\n",
       "students.push(student3)\n",
       "let text = ''\n",
       "for (let i = 0; i < students.length; i++) {\n",
       "  // document.writeln(\"id:\"+students[i].id + \"<br>name:\"+ students[i].name+\"<br>email:\"+students[i].email+\"<br>\")\n",
       "  // element.text(\"id:\"+students[i].id + \"<br>name:\"+ students[i].name+\"<br>email:\"+students[i].email+\"<br>\")\n",
       "  alert((\"id:\"+students[i].id + \"<br>name:\"+ students[i].name+\"<br>email:\"+students[i].email+\"<br>\"))\n",
       "}\n"
      ],
      "text/plain": [
       "<IPython.core.display.Javascript object>"
      ]
     },
     "metadata": {},
     "output_type": "display_data"
    }
   ],
   "source": [
    "%%js\n",
    "let student1 = {'id':'1111','name':'David Chan','email':'david@cuhk.edu.hk'} \n",
    "let student2 = {'id':'1112','name':'Peter Lee','email':'peter@cuhk.edu.hk'}\n",
    "let student3 = {'id':'1113','name':'Mary Fung','email':'mary@cuhk.edu.hk'}\n",
    "let students = []\n",
    "students.push(student1) \n",
    "students.push(student2)\n",
    "students.push(student3)\n",
    "let text = ''\n",
    "for (let i = 0; i < students.length; i++) {\n",
    "  alert((\"id:\"+students[i].id + \"<br>name:\"+ students[i].name+\"<br>email:\"+students[i].email+\"<br>\"))\n",
    "}"
   ]
  },
  {
   "cell_type": "markdown",
   "metadata": {},
   "source": [
    "<h1><center>*************** COM5940 Pre-class workshop ***************</center></h1>"
   ]
  },
  {
   "cell_type": "markdown",
   "metadata": {},
   "source": [
    "<h1><center>Python Function Calling Another Function (Callback)</center></h1>"
   ]
  },
  {
   "cell_type": "code",
   "execution_count": 49,
   "metadata": {},
   "outputs": [
    {
     "name": "stdout",
     "output_type": "stream",
     "text": [
      "Enter your name:Bernard\n",
      "My name is Bernard.\n"
     ]
    }
   ],
   "source": [
    "# Functions are objects and can be passed around.\n",
    "def call_myname(name):\n",
    "    return name\n",
    "\n",
    "def function_call(function):\n",
    "    name = input(\"Enter your name:\")\n",
    "    return function(name) # This is equivalent to call_myname(name)\n",
    "myname = function_call(call_myname)\n",
    "print(\"My name is \"+ myname +\".\")"
   ]
  },
  {
   "cell_type": "code",
   "execution_count": 46,
   "metadata": {},
   "outputs": [
    {
     "data": {
      "application/javascript": [
       "function call_myname(name) {\n",
       "    return name;\n",
       "}\n",
       "\n",
       "function function_call(func) {\n",
       "    let name = prompt(\"Enter your name:\");\n",
       "    return func(name); \n",
       "}\n",
       "\n",
       "let myname = function_call(call_myname);\n",
       "alert(\"My name is \"+myname+\".\")\n"
      ],
      "text/plain": [
       "<IPython.core.display.Javascript object>"
      ]
     },
     "metadata": {},
     "output_type": "display_data"
    }
   ],
   "source": [
    "%%js\n",
    "function call_myname(name) {\n",
    "    return name;\n",
    "}\n",
    "\n",
    "function function_call(func) {\n",
    "    let name = prompt(\"Enter your name:\");\n",
    "    return func(name); \n",
    "}\n",
    "\n",
    "let myname = function_call(call_myname);\n",
    "alert(\"My name is \"+myname+\".\")"
   ]
  },
  {
   "cell_type": "markdown",
   "metadata": {},
   "source": [
    "<div style=\"font-size:20px; line-height: normal;\">\n",
    "    <center><h3>Using String Template (The concept is similar to Flask Jinja2 Template)</h3></center>\n",
    "</div>"
   ]
  },
  {
   "cell_type": "code",
   "execution_count": 7,
   "metadata": {},
   "outputs": [
    {
     "name": "stdout",
     "output_type": "stream",
     "text": [
      "Enter your name:Bernard\n",
      "Your name is Bernard.\n"
     ]
    }
   ],
   "source": [
    "# Old way of printing string variable in Python.\n",
    "name = input(\"Enter your name:\")\n",
    "print(\"Your name is\", name+\".\")"
   ]
  },
  {
   "cell_type": "code",
   "execution_count": 13,
   "metadata": {},
   "outputs": [
    {
     "name": "stdout",
     "output_type": "stream",
     "text": [
      "Enter your name:Bernard\n"
     ]
    },
    {
     "data": {
      "text/plain": [
       "'Your name is Bernard.'"
      ]
     },
     "execution_count": 13,
     "metadata": {},
     "output_type": "execute_result"
    }
   ],
   "source": [
    "# New way of printing string variable in Python, which is called \"F-string\".\n",
    "name = input(\"Enter your name:\")\n",
    "f\"Your name is {name}.\""
   ]
  },
  {
   "cell_type": "code",
   "execution_count": 15,
   "metadata": {},
   "outputs": [
    {
     "data": {
      "application/javascript": [
       "/* Old way of printing string variable in JavaScript */\n",
       "let name = prompt(\"Enter your name:\");\n",
       "alert(\"Your name is \"+name);\n"
      ],
      "text/plain": [
       "<IPython.core.display.Javascript object>"
      ]
     },
     "metadata": {},
     "output_type": "display_data"
    }
   ],
   "source": [
    "%%js\n",
    "/* Old way of printing string variable in JavaScript */\n",
    "let name = prompt(\"Enter your name:\");\n",
    "alert(\"Your name is \"+name+\".\");"
   ]
  },
  {
   "cell_type": "code",
   "execution_count": 21,
   "metadata": {},
   "outputs": [
    {
     "data": {
      "application/javascript": [
       "/* New way of printing string variable in JavaScript using string literal(i.e.Backtick) */\n",
       "let name = prompt(\"Enter your name:\"); \n",
       "alert(`Your name is ${name}.`);\n"
      ],
      "text/plain": [
       "<IPython.core.display.Javascript object>"
      ]
     },
     "metadata": {},
     "output_type": "display_data"
    }
   ],
   "source": [
    "%%js\n",
    "/* New way of printing string variable in JavaScript using string literal(i.e.Backtick) */\n",
    "let name = prompt(\"Enter your name:\"); \n",
    "alert(`Your name is ${name}.`);"
   ]
  },
  {
   "cell_type": "markdown",
   "metadata": {},
   "source": [
    "<div style=\"font-size:20px; line-height: normal;\">\n",
    "    <center><h3>Annonymous Function (Before ES6) and Arrow Function in JS</h3></center>\n",
    "</div>"
   ]
  },
  {
   "cell_type": "code",
   "execution_count": 32,
   "metadata": {},
   "outputs": [
    {
     "data": {
      "application/javascript": [
       "/* Standard JS Function */\n",
       "function add_two_number(x,y) {\n",
       "    return x+y;\n",
       "}\n",
       "\n",
       "let x = parseInt(prompt(\"Enter x:\"));\n",
       "let y = parseInt(prompt(\"Enter y:\"));\n",
       "let result = add_two_number(x,y);\n",
       "alert(`Your result is ${result}.`);\n"
      ],
      "text/plain": [
       "<IPython.core.display.Javascript object>"
      ]
     },
     "metadata": {},
     "output_type": "display_data"
    }
   ],
   "source": [
    "%%js\n",
    "/* Pre-ES6 JS Function */\n",
    "function add_two_number(x,y) {\n",
    "    return x+y;\n",
    "}\n",
    "\n",
    "let x = parseInt(prompt(\"Enter x:\"));\n",
    "let y = parseInt(prompt(\"Enter y:\"));\n",
    "let result = add_two_number(x,y); /* calling the standard function */\n",
    "alert(`Your result is ${result}.`);"
   ]
  },
  {
   "cell_type": "code",
   "execution_count": 50,
   "metadata": {},
   "outputs": [
    {
     "data": {
      "application/javascript": [
       "/* Anonymous Function or can be called Anonymous Variable Function */\n",
       "let add_two_number = function(x,y) {\n",
       "    return x+y;\n",
       "}\n",
       "let x = parseInt(prompt(\"Enter x:\"));\n",
       "let y = parseInt(prompt(\"Enter y:\"));\n",
       "let result = add_two_number(x,y); /* calling the anonymous function */\n",
       "alert(`Your result is ${result}.`);\n"
      ],
      "text/plain": [
       "<IPython.core.display.Javascript object>"
      ]
     },
     "metadata": {},
     "output_type": "display_data"
    }
   ],
   "source": [
    "%%js\n",
    "/* Anonymous Function or can be called Anonymous Variable Function */\n",
    "let add_two_number = function(x,y) {\n",
    "    return x+y;\n",
    "}\n",
    "let x = parseInt(prompt(\"Enter x:\"));\n",
    "let y = parseInt(prompt(\"Enter y:\"));\n",
    "let result = add_two_number(x,y); /* calling the anonymous function */\n",
    "alert(`Your result is ${result}.`);"
   ]
  },
  {
   "cell_type": "code",
   "execution_count": 35,
   "metadata": {},
   "outputs": [
    {
     "data": {
      "application/javascript": [
       "/* Arrow Function */\n",
       "let add_two_number = (x,y) => x+y;\n",
       "let x = parseInt(prompt(\"Enter x:\"));\n",
       "let y = parseInt(prompt(\"Enter y:\"));\n",
       "let result = add_two_number(x,y);\n",
       "alert(`Your result is ${result}.`);\n"
      ],
      "text/plain": [
       "<IPython.core.display.Javascript object>"
      ]
     },
     "metadata": {},
     "output_type": "display_data"
    }
   ],
   "source": [
    "%%js\n",
    "/* Arrow Function */\n",
    "let add_two_number = (x,y) => x+y;\n",
    "let x = parseInt(prompt(\"Enter x:\"));\n",
    "let y = parseInt(prompt(\"Enter y:\"));\n",
    "let result = add_two_number(x,y); /* calling the arrow function */\n",
    "alert(`Your result is ${result}.`);"
   ]
  },
  {
   "cell_type": "markdown",
   "metadata": {},
   "source": [
    "<h1><center>Classes and Instances</center></h1>"
   ]
  },
  {
   "cell_type": "code",
   "execution_count": 53,
   "metadata": {},
   "outputs": [
    {
     "name": "stdout",
     "output_type": "stream",
     "text": [
      "Bernard:80\n",
      "John:90\n",
      "Peter:100\n",
      "John:90\n",
      "Average Score = 90\n"
     ]
    }
   ],
   "source": [
    "## Python Class\n",
    "class Student:\n",
    "    studentCount = 0\n",
    "    studentScore = 0\n",
    "    avgScore = 0\n",
    "\n",
    "    def __init__(self, name, score): #constructor\n",
    "        self.name = name\n",
    "        self.score = score\n",
    "        Student.studentCount += 1\n",
    "        Student.studentScore += score\n",
    "\n",
    "    def displayStudent(self):\n",
    "        # print(\"Name : \", self.name,  \", Score: \", self.score)\n",
    "        # print(self.name,\":\", self.score)\n",
    "        return '{}:{}'.format(self.name,self.score)\n",
    "      \n",
    "    def __repr__(self):\n",
    "        return f\"<Person('{self.name}'. {self.score})>\"\n",
    "\n",
    "# student1,student2,and student3 are instances of the Student Class. An instance is a member of a class.    \n",
    "student1 = Student(\"Bernard\", 80)\n",
    "student2 = Student(\"John\", 90)\n",
    "student3 = Student(\"Peter\", 100)\n",
    "# print(student1)\n",
    "# print(student2)\n",
    "# print(student3)\n",
    "print(student1.displayStudent())\n",
    "print(student2.displayStudent())\n",
    "print(student3.displayStudent())\n",
    "print(Student.displayStudent(student2)) # Another way to call a method by using the class intance of the object instance.\n",
    "avg_score = Student.studentScore/Student.studentCount\n",
    "print(\"Average Score = %d\" % avg_score)"
   ]
  },
  {
   "cell_type": "code",
   "execution_count": 73,
   "metadata": {},
   "outputs": [],
   "source": [
    "## Python Class\n",
    "class Animal:\n",
    "\n",
    "    def __init__(self, name, numofLegs, isMamal): #constructor\n",
    "        self.name = name\n",
    "        self.numofLegs = numofLegs \n",
    "        self.isMamal = \"a mamal\" if isMamal else \"not a mamal\"\n",
    "\n",
    "    def displayAnimal(self): # function associated with the class is called a method.\n",
    "        return f\"A {self.name} has {self.numofLegs} legs. It is {self.isMamal}.\"\n",
    "    \n",
    "class Cat(Animal):\n",
    "    def __init__(self, name, numofLegs, isMamal, hasTail):\n",
    "        super().__init__(name,numofLegs,isMamal) \n",
    "        self.hasTail = \"has tail\" if hasTail else \"does not have a tail\"    \n",
    "    \n",
    "    def displayCat(self):\n",
    "        # print(\"Name : \", self.name,  \", Score: \", self.score)\n",
    "        # print(self.name,\":\", self.score)\n",
    "        return f\"A {self.name} has {self.numofLegs} legs. It is {self.isMamal}. It {self.hasTail}.\"\n",
    "    \n",
    "## Python Class Instantiation\n",
    "animal1 = Animal('dog',4,True)\n",
    "animal2 = Animal('crocodile',4,False)\n",
    "animal3 = Animal ('cat',4,True)\n",
    "\n",
    "print(animal1.displayAnimal())\n",
    "##print(animal2.displayAnimal())\n",
    "##print(animal3.displayAnimal())\n",
    "\n",
    "cat1 = Cat('Persian cat',4,True,True)\n",
    "cat2 = Cat('Siameses cat',4,True,True)\n",
    "print(cat1.displayCat())\n",
    "##print(cat2.displayCat())"
   ]
  },
  {
   "cell_type": "code",
   "execution_count": 77,
   "metadata": {},
   "outputs": [
    {
     "data": {
      "application/javascript": [
       " class Animal {\n",
       "            constructor(name, numofLegs, isMamal) { \n",
       "                this.name = name;\n",
       "                this.numofLegs = numofLegs; \n",
       "                this.isMamal = isMamal ? 'a mamal' : 'not a mamal';\n",
       "            }\n",
       "    \n",
       "            displayAnimal() {\n",
       "                return `A ${this.name} has ${this.numofLegs} legs. It is ${this.isMamal}.`;\n",
       "            }\n",
       "\n",
       "        }\n",
       "\n",
       "class Cat extends Animal {\n",
       "            constructor(name, numofLegs, isMamal, hasTail) {\n",
       "                super(name,numofLegs,isMamal); \n",
       "                this.hasTail = hasTail ? 'has tail' : 'does not have a tail';\n",
       "            }   \n",
       "            \n",
       "            displayCat(){\n",
       "                return `A ${this.name} has ${this.numofLegs} legs. It is ${this.isMamal}. It ${this.hasTail}.`;\n",
       "            }    \n",
       "\n",
       "        }\n",
       "\n",
       "const animal1 = new Animal('dog',4,true);\n",
       "const animal2 = new Animal('crocodile',4,false);\n",
       "const animal3 = new Animal ('cat',4,true);\n",
       "\n",
       "// element.text(animal1.displayAnimal())\n",
       "// element.text(animal2.displayAnimal())\n",
       "// element.text(animal3.displayAnimal())\n",
       "\n",
       "\n",
       "const cat1 = new Cat('Persian cat',4,true,true);\n",
       "// const cat2 = new Cat('Siamese cat',4,true,true);\n",
       "element.text(cat1.displayCat())\n",
       "// element.text(cat2.displayCat())\n"
      ],
      "text/plain": [
       "<IPython.core.display.Javascript object>"
      ]
     },
     "metadata": {},
     "output_type": "display_data"
    }
   ],
   "source": [
    "%%js\n",
    " class Animal {\n",
    "            constructor(name, numofLegs, isMamal) { \n",
    "                this.name = name;\n",
    "                this.numofLegs = numofLegs; \n",
    "                this.isMamal = isMamal ? 'a mamal' : 'not a mamal';\n",
    "            }\n",
    "    \n",
    "            displayAnimal() {\n",
    "                return `A ${this.name} has ${this.numofLegs} legs. It is ${this.isMamal}.`;\n",
    "            }\n",
    "\n",
    "        }\n",
    "\n",
    "class Cat extends Animal {\n",
    "            constructor(name, numofLegs, isMamal, hasTail) {\n",
    "                super(name,numofLegs,isMamal); \n",
    "                this.hasTail = hasTail ? 'has tail' : 'does not have a tail';\n",
    "            }   \n",
    "            \n",
    "            displayCat(){\n",
    "                return `A ${this.name} has ${this.numofLegs} legs. It is ${this.isMamal}. It ${this.hasTail}.`;\n",
    "            }    \n",
    "\n",
    "        }\n",
    "\n",
    "const animal1 = new Animal('dog',4,true);\n",
    "const animal2 = new Animal('crocodile',4,false);\n",
    "const animal3 = new Animal ('cat',4,true);\n",
    "\n",
    "// element.text(animal1.displayAnimal())\n",
    "// element.text(animal2.displayAnimal())\n",
    "// element.text(animal3.displayAnimal())\n",
    "\n",
    "\n",
    "const cat1 = new Cat('Persian cat',4,true,true);\n",
    "// const cat2 = new Cat('Siamese cat',4,true,true);\n",
    "element.text(cat1.displayCat())\n",
    "// element.text(cat2.displayCat())"
   ]
  },
  {
   "cell_type": "markdown",
   "metadata": {},
   "source": [
    "<h1><center>Import Module and Package</center></h1>"
   ]
  },
  {
   "cell_type": "code",
   "execution_count": null,
   "metadata": {},
   "outputs": [],
   "source": [
    "from convert_temp import *\n",
    "# Move the following function into convert_temp module file.\n",
    "\n",
    "total_temp = 0\n",
    "total_temp = get_daily_celcius()\n",
    "display_avg(total_temp)"
   ]
  },
  {
   "cell_type": "markdown",
   "metadata": {},
   "source": [
    "<h1><center>See More Examples in JS File</center></h1>"
   ]
  }
 ],
 "metadata": {
  "kernelspec": {
   "display_name": "Python 3",
   "language": "python",
   "name": "python3"
  },
  "language_info": {
   "codemirror_mode": {
    "name": "ipython",
    "version": 3
   },
   "file_extension": ".py",
   "mimetype": "text/x-python",
   "name": "python",
   "nbconvert_exporter": "python",
   "pygments_lexer": "ipython3",
   "version": "3.7.3"
  }
 },
 "nbformat": 4,
 "nbformat_minor": 2
}
